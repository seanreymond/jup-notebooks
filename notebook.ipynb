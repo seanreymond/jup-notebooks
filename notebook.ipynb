{
  "cells": [
    {
      "metadata": {
        "_uuid": "e4561cb64722ffd7adb74a8800f89973bc3fe87a",
        "_cell_guid": "f49a0842-1c3d-4bee-8b3e-3caf6111bb60",
        "trusted": true
      },
      "cell_type": "code",
      "source": "import numpy as np\nimport pandas as pd\n\nfrom sklearn.preprocessing import LabelEncoder, MinMaxScaler, StandardScaler\nfrom sklearn.model_selection import train_test_split\n\nimport matplotlib.pyplot as plt\n%matplotlib inline \n\nimport math\n\n\nfrom subprocess import check_output\nprint(check_output([\"ls\", \"../input\"]).decode(\"utf8\"))",
      "execution_count": 1,
      "outputs": [
        {
          "output_type": "stream",
          "text": "sample_submission.csv\ntest.tsv\ntrain.tsv\n\n",
          "name": "stdout"
        }
      ]
    },
    {
      "metadata": {
        "collapsed": true,
        "_uuid": "56874f4a359241631a1f1e4788da09e7b09182b8",
        "_cell_guid": "17b85633-4dae-4a49-9573-5d5c3b1b9699",
        "trusted": true
      },
      "cell_type": "code",
      "source": "def rmsle(y, y_pred):\n    assert len(y) == len(y_pred)\n    to_sum = [(math.log(y_pred[i] + 1) - math.log(y[i] + 1)) ** 2.0 for i,pred in enumerate(y_pred)]\n    return (sum(to_sum) * (1.0/len(y))) ** 0.5\n#Source: https://www.kaggle.com/marknagelberg/rmsle-function",
      "execution_count": 2,
      "outputs": []
    },
    {
      "metadata": {
        "_uuid": "80cd3abaf2d32b2c8133719d9a7bbb977adf91cb",
        "_cell_guid": "a76efe2c-34bb-458a-8611-1dcabda65b31",
        "trusted": true
      },
      "cell_type": "code",
      "source": "#LOAD DATA\nprint(\"Loading data...\")\ntrain = pd.read_table(\"../input/train.tsv\")\ntest = pd.read_table(\"../input/test.tsv\")\nprint(train.shape)\nprint(test.shape)",
      "execution_count": 3,
      "outputs": [
        {
          "output_type": "stream",
          "text": "Loading data...\n(1482535, 8)\n(693359, 7)\n",
          "name": "stdout"
        }
      ]
    },
    {
      "metadata": {
        "_uuid": "32e7e3b00ff245583e3d59e85cf7e036b1cc1b2b",
        "_cell_guid": "e5bd4107-efba-4faa-b223-4a18ccc02ed2",
        "trusted": true
      },
      "cell_type": "code",
      "source": "train.head(5)",
      "execution_count": 4,
      "outputs": [
        {
          "output_type": "execute_result",
          "execution_count": 4,
          "data": {
            "text/plain": "   train_id                                 name  item_condition_id  \\\n0         0  MLB Cincinnati Reds T Shirt Size XL                  3   \n1         1     Razer BlackWidow Chroma Keyboard                  3   \n2         2                       AVA-VIV Blouse                  1   \n3         3                Leather Horse Statues                  1   \n4         4                 24K GOLD plated rose                  1   \n\n                                       category_name brand_name  price  \\\n0                                  Men/Tops/T-shirts        NaN   10.0   \n1  Electronics/Computers & Tablets/Components & P...      Razer   52.0   \n2                        Women/Tops & Blouses/Blouse     Target   10.0   \n3                 Home/Home Décor/Home Décor Accents        NaN   35.0   \n4                            Women/Jewelry/Necklaces        NaN   44.0   \n\n   shipping                                   item_description  \n0         1                                 No description yet  \n1         0  This keyboard is in great condition and works ...  \n2         1  Adorable top with a hint of lace and a key hol...  \n3         1  New with tags. Leather horses. Retail for [rm]...  \n4         0          Complete with certificate of authenticity  ",
            "text/html": "<div>\n<style>\n    .dataframe thead tr:only-child th {\n        text-align: right;\n    }\n\n    .dataframe thead th {\n        text-align: left;\n    }\n\n    .dataframe tbody tr th {\n        vertical-align: top;\n    }\n</style>\n<table border=\"1\" class=\"dataframe\">\n  <thead>\n    <tr style=\"text-align: right;\">\n      <th></th>\n      <th>train_id</th>\n      <th>name</th>\n      <th>item_condition_id</th>\n      <th>category_name</th>\n      <th>brand_name</th>\n      <th>price</th>\n      <th>shipping</th>\n      <th>item_description</th>\n    </tr>\n  </thead>\n  <tbody>\n    <tr>\n      <th>0</th>\n      <td>0</td>\n      <td>MLB Cincinnati Reds T Shirt Size XL</td>\n      <td>3</td>\n      <td>Men/Tops/T-shirts</td>\n      <td>NaN</td>\n      <td>10.0</td>\n      <td>1</td>\n      <td>No description yet</td>\n    </tr>\n    <tr>\n      <th>1</th>\n      <td>1</td>\n      <td>Razer BlackWidow Chroma Keyboard</td>\n      <td>3</td>\n      <td>Electronics/Computers &amp; Tablets/Components &amp; P...</td>\n      <td>Razer</td>\n      <td>52.0</td>\n      <td>0</td>\n      <td>This keyboard is in great condition and works ...</td>\n    </tr>\n    <tr>\n      <th>2</th>\n      <td>2</td>\n      <td>AVA-VIV Blouse</td>\n      <td>1</td>\n      <td>Women/Tops &amp; Blouses/Blouse</td>\n      <td>Target</td>\n      <td>10.0</td>\n      <td>1</td>\n      <td>Adorable top with a hint of lace and a key hol...</td>\n    </tr>\n    <tr>\n      <th>3</th>\n      <td>3</td>\n      <td>Leather Horse Statues</td>\n      <td>1</td>\n      <td>Home/Home Décor/Home Décor Accents</td>\n      <td>NaN</td>\n      <td>35.0</td>\n      <td>1</td>\n      <td>New with tags. Leather horses. Retail for [rm]...</td>\n    </tr>\n    <tr>\n      <th>4</th>\n      <td>4</td>\n      <td>24K GOLD plated rose</td>\n      <td>1</td>\n      <td>Women/Jewelry/Necklaces</td>\n      <td>NaN</td>\n      <td>44.0</td>\n      <td>0</td>\n      <td>Complete with certificate of authenticity</td>\n    </tr>\n  </tbody>\n</table>\n</div>"
          },
          "metadata": {}
        }
      ]
    },
    {
      "metadata": {
        "_uuid": "967a5f2b26862be11cdae8cb0fb7402fd486135c",
        "_cell_guid": "4e506bee-5541-4879-aaea-159dee4416b8",
        "trusted": true
      },
      "cell_type": "code",
      "source": "#HANDLE MISSING VALUES\nprint(\"Handling missing values...\")\ndef handle_missing(dataset):\n    #dataset.category_name.fillna(value=\"missing\", inplace=True)\n    dataset.brand_name.fillna(value=\"missing\", inplace=True)\n    dataset.item_description.fillna(value=\"missing\", inplace=True)\n    return (dataset)\n\ntrain = handle_missing(train)\ntest = handle_missing(test)\nprint(train.shape)\nprint(test.shape)",
      "execution_count": 5,
      "outputs": [
        {
          "output_type": "stream",
          "text": "Handling missing values...\n(1482535, 8)\n(693359, 7)\n",
          "name": "stdout"
        }
      ]
    },
    {
      "metadata": {
        "_uuid": "1aa305c5227f3a4d6b5a5bdf6aa55fe55cf46548",
        "_cell_guid": "39007c90-161e-4ef0-b0a5-fc16f04665b4",
        "trusted": true
      },
      "cell_type": "code",
      "source": "train.head(5)",
      "execution_count": 6,
      "outputs": [
        {
          "output_type": "execute_result",
          "execution_count": 6,
          "data": {
            "text/plain": "   train_id                                 name  item_condition_id  \\\n0         0  MLB Cincinnati Reds T Shirt Size XL                  3   \n1         1     Razer BlackWidow Chroma Keyboard                  3   \n2         2                       AVA-VIV Blouse                  1   \n3         3                Leather Horse Statues                  1   \n4         4                 24K GOLD plated rose                  1   \n\n                                       category_name brand_name  price  \\\n0                                  Men/Tops/T-shirts    missing   10.0   \n1  Electronics/Computers & Tablets/Components & P...      Razer   52.0   \n2                        Women/Tops & Blouses/Blouse     Target   10.0   \n3                 Home/Home Décor/Home Décor Accents    missing   35.0   \n4                            Women/Jewelry/Necklaces    missing   44.0   \n\n   shipping                                   item_description  \n0         1                                 No description yet  \n1         0  This keyboard is in great condition and works ...  \n2         1  Adorable top with a hint of lace and a key hol...  \n3         1  New with tags. Leather horses. Retail for [rm]...  \n4         0          Complete with certificate of authenticity  ",
            "text/html": "<div>\n<style>\n    .dataframe thead tr:only-child th {\n        text-align: right;\n    }\n\n    .dataframe thead th {\n        text-align: left;\n    }\n\n    .dataframe tbody tr th {\n        vertical-align: top;\n    }\n</style>\n<table border=\"1\" class=\"dataframe\">\n  <thead>\n    <tr style=\"text-align: right;\">\n      <th></th>\n      <th>train_id</th>\n      <th>name</th>\n      <th>item_condition_id</th>\n      <th>category_name</th>\n      <th>brand_name</th>\n      <th>price</th>\n      <th>shipping</th>\n      <th>item_description</th>\n    </tr>\n  </thead>\n  <tbody>\n    <tr>\n      <th>0</th>\n      <td>0</td>\n      <td>MLB Cincinnati Reds T Shirt Size XL</td>\n      <td>3</td>\n      <td>Men/Tops/T-shirts</td>\n      <td>missing</td>\n      <td>10.0</td>\n      <td>1</td>\n      <td>No description yet</td>\n    </tr>\n    <tr>\n      <th>1</th>\n      <td>1</td>\n      <td>Razer BlackWidow Chroma Keyboard</td>\n      <td>3</td>\n      <td>Electronics/Computers &amp; Tablets/Components &amp; P...</td>\n      <td>Razer</td>\n      <td>52.0</td>\n      <td>0</td>\n      <td>This keyboard is in great condition and works ...</td>\n    </tr>\n    <tr>\n      <th>2</th>\n      <td>2</td>\n      <td>AVA-VIV Blouse</td>\n      <td>1</td>\n      <td>Women/Tops &amp; Blouses/Blouse</td>\n      <td>Target</td>\n      <td>10.0</td>\n      <td>1</td>\n      <td>Adorable top with a hint of lace and a key hol...</td>\n    </tr>\n    <tr>\n      <th>3</th>\n      <td>3</td>\n      <td>Leather Horse Statues</td>\n      <td>1</td>\n      <td>Home/Home Décor/Home Décor Accents</td>\n      <td>missing</td>\n      <td>35.0</td>\n      <td>1</td>\n      <td>New with tags. Leather horses. Retail for [rm]...</td>\n    </tr>\n    <tr>\n      <th>4</th>\n      <td>4</td>\n      <td>24K GOLD plated rose</td>\n      <td>1</td>\n      <td>Women/Jewelry/Necklaces</td>\n      <td>missing</td>\n      <td>44.0</td>\n      <td>0</td>\n      <td>Complete with certificate of authenticity</td>\n    </tr>\n  </tbody>\n</table>\n</div>"
          },
          "metadata": {}
        }
      ]
    },
    {
      "metadata": {
        "_uuid": "9aaa7d492071cf5370510bb326bf662ed52b176c",
        "collapsed": true,
        "_cell_guid": "6b5eb6b2-6907-44c2-9541-9c09edb9614d",
        "trusted": true
      },
      "cell_type": "code",
      "source": "# reference: BuryBuryZymon at https://www.kaggle.com/maheshdadhich/i-will-sell-everything-for-free-0-55\ndef split_cat(text):\n    try:\n        tt = text.split(\"/\")\n        return tt + [\"No Label\"] * (3-len(tt))\n    except: return (\"No Label\", \"No Label\", \"No Label\")",
      "execution_count": 7,
      "outputs": []
    },
    {
      "metadata": {
        "_uuid": "bf04bc3d3dde2d55266af4682283d6c4dfbd0377",
        "_cell_guid": "8101780a-078e-43c1-ab3a-7a35d123b60b",
        "trusted": true
      },
      "cell_type": "code",
      "source": "train['general_cat'], train['subcat_1'], train['subcat_2'] = \\\nzip(*train['category_name'].apply(lambda x: split_cat(x)))\n\ntest['general_cat'], test['subcat_1'], test['subcat_2'] = \\\nzip(*test['category_name'].apply(lambda x: split_cat(x)))\n\ntrain.head()",
      "execution_count": 8,
      "outputs": [
        {
          "output_type": "execute_result",
          "execution_count": 8,
          "data": {
            "text/plain": "   train_id                                 name  item_condition_id  \\\n0         0  MLB Cincinnati Reds T Shirt Size XL                  3   \n1         1     Razer BlackWidow Chroma Keyboard                  3   \n2         2                       AVA-VIV Blouse                  1   \n3         3                Leather Horse Statues                  1   \n4         4                 24K GOLD plated rose                  1   \n\n                                       category_name brand_name  price  \\\n0                                  Men/Tops/T-shirts    missing   10.0   \n1  Electronics/Computers & Tablets/Components & P...      Razer   52.0   \n2                        Women/Tops & Blouses/Blouse     Target   10.0   \n3                 Home/Home Décor/Home Décor Accents    missing   35.0   \n4                            Women/Jewelry/Necklaces    missing   44.0   \n\n   shipping                                   item_description  general_cat  \\\n0         1                                 No description yet          Men   \n1         0  This keyboard is in great condition and works ...  Electronics   \n2         1  Adorable top with a hint of lace and a key hol...        Women   \n3         1  New with tags. Leather horses. Retail for [rm]...         Home   \n4         0          Complete with certificate of authenticity        Women   \n\n              subcat_1            subcat_2  \n0                 Tops            T-shirts  \n1  Computers & Tablets  Components & Parts  \n2       Tops & Blouses              Blouse  \n3           Home Décor  Home Décor Accents  \n4              Jewelry           Necklaces  ",
            "text/html": "<div>\n<style>\n    .dataframe thead tr:only-child th {\n        text-align: right;\n    }\n\n    .dataframe thead th {\n        text-align: left;\n    }\n\n    .dataframe tbody tr th {\n        vertical-align: top;\n    }\n</style>\n<table border=\"1\" class=\"dataframe\">\n  <thead>\n    <tr style=\"text-align: right;\">\n      <th></th>\n      <th>train_id</th>\n      <th>name</th>\n      <th>item_condition_id</th>\n      <th>category_name</th>\n      <th>brand_name</th>\n      <th>price</th>\n      <th>shipping</th>\n      <th>item_description</th>\n      <th>general_cat</th>\n      <th>subcat_1</th>\n      <th>subcat_2</th>\n    </tr>\n  </thead>\n  <tbody>\n    <tr>\n      <th>0</th>\n      <td>0</td>\n      <td>MLB Cincinnati Reds T Shirt Size XL</td>\n      <td>3</td>\n      <td>Men/Tops/T-shirts</td>\n      <td>missing</td>\n      <td>10.0</td>\n      <td>1</td>\n      <td>No description yet</td>\n      <td>Men</td>\n      <td>Tops</td>\n      <td>T-shirts</td>\n    </tr>\n    <tr>\n      <th>1</th>\n      <td>1</td>\n      <td>Razer BlackWidow Chroma Keyboard</td>\n      <td>3</td>\n      <td>Electronics/Computers &amp; Tablets/Components &amp; P...</td>\n      <td>Razer</td>\n      <td>52.0</td>\n      <td>0</td>\n      <td>This keyboard is in great condition and works ...</td>\n      <td>Electronics</td>\n      <td>Computers &amp; Tablets</td>\n      <td>Components &amp; Parts</td>\n    </tr>\n    <tr>\n      <th>2</th>\n      <td>2</td>\n      <td>AVA-VIV Blouse</td>\n      <td>1</td>\n      <td>Women/Tops &amp; Blouses/Blouse</td>\n      <td>Target</td>\n      <td>10.0</td>\n      <td>1</td>\n      <td>Adorable top with a hint of lace and a key hol...</td>\n      <td>Women</td>\n      <td>Tops &amp; Blouses</td>\n      <td>Blouse</td>\n    </tr>\n    <tr>\n      <th>3</th>\n      <td>3</td>\n      <td>Leather Horse Statues</td>\n      <td>1</td>\n      <td>Home/Home Décor/Home Décor Accents</td>\n      <td>missing</td>\n      <td>35.0</td>\n      <td>1</td>\n      <td>New with tags. Leather horses. Retail for [rm]...</td>\n      <td>Home</td>\n      <td>Home Décor</td>\n      <td>Home Décor Accents</td>\n    </tr>\n    <tr>\n      <th>4</th>\n      <td>4</td>\n      <td>24K GOLD plated rose</td>\n      <td>1</td>\n      <td>Women/Jewelry/Necklaces</td>\n      <td>missing</td>\n      <td>44.0</td>\n      <td>0</td>\n      <td>Complete with certificate of authenticity</td>\n      <td>Women</td>\n      <td>Jewelry</td>\n      <td>Necklaces</td>\n    </tr>\n  </tbody>\n</table>\n</div>"
          },
          "metadata": {}
        }
      ]
    },
    {
      "metadata": {
        "_uuid": "cd94fae5030f0c9ee9a6951204a36d893343ba6e",
        "_cell_guid": "f433834c-d8b5-4712-ac90-7f45c1dad24f",
        "trusted": false,
        "collapsed": true
      },
      "cell_type": "code",
      "source": "",
      "execution_count": null,
      "outputs": []
    },
    {
      "metadata": {
        "_uuid": "cf9985161bcd94612b1359177e23124efd3410cb",
        "_cell_guid": "204de9ca-7ea5-481b-9039-743bbab1084f",
        "trusted": true
      },
      "cell_type": "code",
      "source": "#PROCESS CATEGORICAL DATA\nprint(\"Handling categorical variables...\")\nle = LabelEncoder()\n\n#le.fit(np.hstack([train.category_name, test.category_name]))\n#train.category_name = le.transform(train.category_name)\n#test.category_name = le.transform(test.category_name)\n\nle.fit(np.hstack([train.general_cat, test.general_cat]))\ntrain.general_cat = le.transform(train.general_cat)\ntest.general_cat = le.transform(test.general_cat)\n\nle.fit(np.hstack([train.subcat_1, test.subcat_1]))\ntrain.subcat_1 = le.transform(train.subcat_1)\ntest.subcat_1 = le.transform(test.subcat_1)\n\nle.fit(np.hstack([train.subcat_2, test.subcat_2]))\ntrain.subcat_2 = le.transform(train.subcat_2)\ntest.subcat_2 = le.transform(test.subcat_2)\n\nle.fit(np.hstack([train.brand_name, test.brand_name]))\ntrain.brand_name = le.transform(train.brand_name)\ntest.brand_name = le.transform(test.brand_name)\ndel le\n\ntrain.head(3)\n",
      "execution_count": 9,
      "outputs": [
        {
          "output_type": "stream",
          "text": "Handling categorical variables...\n",
          "name": "stdout"
        },
        {
          "output_type": "execute_result",
          "execution_count": 9,
          "data": {
            "text/plain": "   train_id                                 name  item_condition_id  \\\n0         0  MLB Cincinnati Reds T Shirt Size XL                  3   \n1         1     Razer BlackWidow Chroma Keyboard                  3   \n2         2                       AVA-VIV Blouse                  1   \n\n                                       category_name  brand_name  price  \\\n0                                  Men/Tops/T-shirts        5265   10.0   \n1  Electronics/Computers & Tablets/Components & P...        3889   52.0   \n2                        Women/Tops & Blouses/Blouse        4588   10.0   \n\n   shipping                                   item_description  general_cat  \\\n0         1                                 No description yet            5   \n1         0  This keyboard is in great condition and works ...            1   \n2         1  Adorable top with a hint of lace and a key hol...           10   \n\n   subcat_1  subcat_2  \n0       103       774  \n1        30       215  \n2       104        97  ",
            "text/html": "<div>\n<style>\n    .dataframe thead tr:only-child th {\n        text-align: right;\n    }\n\n    .dataframe thead th {\n        text-align: left;\n    }\n\n    .dataframe tbody tr th {\n        vertical-align: top;\n    }\n</style>\n<table border=\"1\" class=\"dataframe\">\n  <thead>\n    <tr style=\"text-align: right;\">\n      <th></th>\n      <th>train_id</th>\n      <th>name</th>\n      <th>item_condition_id</th>\n      <th>category_name</th>\n      <th>brand_name</th>\n      <th>price</th>\n      <th>shipping</th>\n      <th>item_description</th>\n      <th>general_cat</th>\n      <th>subcat_1</th>\n      <th>subcat_2</th>\n    </tr>\n  </thead>\n  <tbody>\n    <tr>\n      <th>0</th>\n      <td>0</td>\n      <td>MLB Cincinnati Reds T Shirt Size XL</td>\n      <td>3</td>\n      <td>Men/Tops/T-shirts</td>\n      <td>5265</td>\n      <td>10.0</td>\n      <td>1</td>\n      <td>No description yet</td>\n      <td>5</td>\n      <td>103</td>\n      <td>774</td>\n    </tr>\n    <tr>\n      <th>1</th>\n      <td>1</td>\n      <td>Razer BlackWidow Chroma Keyboard</td>\n      <td>3</td>\n      <td>Electronics/Computers &amp; Tablets/Components &amp; P...</td>\n      <td>3889</td>\n      <td>52.0</td>\n      <td>0</td>\n      <td>This keyboard is in great condition and works ...</td>\n      <td>1</td>\n      <td>30</td>\n      <td>215</td>\n    </tr>\n    <tr>\n      <th>2</th>\n      <td>2</td>\n      <td>AVA-VIV Blouse</td>\n      <td>1</td>\n      <td>Women/Tops &amp; Blouses/Blouse</td>\n      <td>4588</td>\n      <td>10.0</td>\n      <td>1</td>\n      <td>Adorable top with a hint of lace and a key hol...</td>\n      <td>10</td>\n      <td>104</td>\n      <td>97</td>\n    </tr>\n  </tbody>\n</table>\n</div>"
          },
          "metadata": {}
        }
      ]
    },
    {
      "metadata": {
        "_uuid": "ff62bf6d3681b84510026bfa3514963513f2e8f2",
        "_cell_guid": "b122ac7a-c203-463f-aa92-b843b039fce3",
        "trusted": true
      },
      "cell_type": "code",
      "source": "#PROCESS TEXT: RAW\nprint(\"Text to seq process...\")\nfrom keras.preprocessing.text import Tokenizer\nraw_text = np.hstack([train.item_description.str.lower(), train.name.str.lower()])\n\nprint(\"   Fitting tokenizer...\")\ntok_raw = Tokenizer()\ntok_raw.fit_on_texts(raw_text)\nprint(\"   Transforming text to seq...\")\n\ntrain[\"seq_item_description\"] = tok_raw.texts_to_sequences(train.item_description.str.lower())\ntest[\"seq_item_description\"] = tok_raw.texts_to_sequences(test.item_description.str.lower())\ntrain[\"seq_name\"] = tok_raw.texts_to_sequences(train.name.str.lower())\ntest[\"seq_name\"] = tok_raw.texts_to_sequences(test.name.str.lower())\ntrain.head(3)",
      "execution_count": 10,
      "outputs": [
        {
          "output_type": "stream",
          "text": "Text to seq process...\n",
          "name": "stdout"
        },
        {
          "output_type": "stream",
          "text": "Using TensorFlow backend.\n/opt/conda/lib/python3.6/importlib/_bootstrap.py:219: RuntimeWarning: compiletime version 3.5 of module 'tensorflow.python.framework.fast_tensor_util' does not match runtime version 3.6\n  return f(*args, **kwds)\n",
          "name": "stderr"
        },
        {
          "output_type": "stream",
          "text": "   Fitting tokenizer...\n   Transforming text to seq...\n",
          "name": "stdout"
        },
        {
          "output_type": "execute_result",
          "execution_count": 10,
          "data": {
            "text/plain": "   train_id                                 name  item_condition_id  \\\n0         0  MLB Cincinnati Reds T Shirt Size XL                  3   \n1         1     Razer BlackWidow Chroma Keyboard                  3   \n2         2                       AVA-VIV Blouse                  1   \n\n                                       category_name  brand_name  price  \\\n0                                  Men/Tops/T-shirts        5265   10.0   \n1  Electronics/Computers & Tablets/Components & P...        3889   52.0   \n2                        Women/Tops & Blouses/Blouse        4588   10.0   \n\n   shipping                                   item_description  general_cat  \\\n0         1                                 No description yet            5   \n1         0  This keyboard is in great condition and works ...            1   \n2         1  Adorable top with a hint of lace and a key hol...           10   \n\n   subcat_1  subcat_2                               seq_item_description  \\\n0       103       774                                       [12, 68, 79]   \n1        30       215  [29, 2627, 10, 7, 39, 17, 1, 207, 51, 19, 1113...   \n2       104        97  [604, 60, 9, 4, 5347, 11, 192, 1, 4, 886, 1290...   \n\n                              seq_name  \n0  [3852, 8823, 6896, 208, 84, 6, 155]  \n1          [10760, 25565, 16369, 2627]  \n2                   [7634, 10563, 666]  ",
            "text/html": "<div>\n<style>\n    .dataframe thead tr:only-child th {\n        text-align: right;\n    }\n\n    .dataframe thead th {\n        text-align: left;\n    }\n\n    .dataframe tbody tr th {\n        vertical-align: top;\n    }\n</style>\n<table border=\"1\" class=\"dataframe\">\n  <thead>\n    <tr style=\"text-align: right;\">\n      <th></th>\n      <th>train_id</th>\n      <th>name</th>\n      <th>item_condition_id</th>\n      <th>category_name</th>\n      <th>brand_name</th>\n      <th>price</th>\n      <th>shipping</th>\n      <th>item_description</th>\n      <th>general_cat</th>\n      <th>subcat_1</th>\n      <th>subcat_2</th>\n      <th>seq_item_description</th>\n      <th>seq_name</th>\n    </tr>\n  </thead>\n  <tbody>\n    <tr>\n      <th>0</th>\n      <td>0</td>\n      <td>MLB Cincinnati Reds T Shirt Size XL</td>\n      <td>3</td>\n      <td>Men/Tops/T-shirts</td>\n      <td>5265</td>\n      <td>10.0</td>\n      <td>1</td>\n      <td>No description yet</td>\n      <td>5</td>\n      <td>103</td>\n      <td>774</td>\n      <td>[12, 68, 79]</td>\n      <td>[3852, 8823, 6896, 208, 84, 6, 155]</td>\n    </tr>\n    <tr>\n      <th>1</th>\n      <td>1</td>\n      <td>Razer BlackWidow Chroma Keyboard</td>\n      <td>3</td>\n      <td>Electronics/Computers &amp; Tablets/Components &amp; P...</td>\n      <td>3889</td>\n      <td>52.0</td>\n      <td>0</td>\n      <td>This keyboard is in great condition and works ...</td>\n      <td>1</td>\n      <td>30</td>\n      <td>215</td>\n      <td>[29, 2627, 10, 7, 39, 17, 1, 207, 51, 19, 1113...</td>\n      <td>[10760, 25565, 16369, 2627]</td>\n    </tr>\n    <tr>\n      <th>2</th>\n      <td>2</td>\n      <td>AVA-VIV Blouse</td>\n      <td>1</td>\n      <td>Women/Tops &amp; Blouses/Blouse</td>\n      <td>4588</td>\n      <td>10.0</td>\n      <td>1</td>\n      <td>Adorable top with a hint of lace and a key hol...</td>\n      <td>10</td>\n      <td>104</td>\n      <td>97</td>\n      <td>[604, 60, 9, 4, 5347, 11, 192, 1, 4, 886, 1290...</td>\n      <td>[7634, 10563, 666]</td>\n    </tr>\n  </tbody>\n</table>\n</div>"
          },
          "metadata": {}
        }
      ]
    },
    {
      "metadata": {
        "_uuid": "335a3d95444a2602598aebbfa6de0a8a3f5a1814",
        "_cell_guid": "9da5165e-0692-4c1a-a5e7-3fb1c6c1a4fd",
        "trusted": true
      },
      "cell_type": "code",
      "source": "#SEQUENCES VARIABLES ANALYSIS\nmax_name_seq = np.max([np.max(train.seq_name.apply(lambda x: len(x))), np.max(test.seq_name.apply(lambda x: len(x)))])\nmax_seq_item_description = np.max([np.max(train.seq_item_description.apply(lambda x: len(x)))\n                                   , np.max(test.seq_item_description.apply(lambda x: len(x)))])\nprint(\"max name seq \"+str(max_name_seq))\nprint(\"max item desc seq \"+str(max_seq_item_description))",
      "execution_count": 11,
      "outputs": [
        {
          "output_type": "stream",
          "text": "max name seq 17\nmax item desc seq 269\n",
          "name": "stdout"
        }
      ]
    },
    {
      "metadata": {
        "_uuid": "32ffa5a96deaeb6214469a2594475f7b5a15bc92",
        "_cell_guid": "3e87bf13-093e-42a3-bef9-ed10322944df",
        "trusted": true
      },
      "cell_type": "code",
      "source": "train.seq_name.apply(lambda x: len(x)).hist()",
      "execution_count": 12,
      "outputs": [
        {
          "output_type": "execute_result",
          "execution_count": 12,
          "data": {
            "text/plain": "<matplotlib.axes._subplots.AxesSubplot at 0x7f1e99a672b0>"
          },
          "metadata": {}
        },
        {
          "output_type": "display_data",
          "data": {
            "text/plain": "<matplotlib.figure.Figure at 0x7f1eb9cc6e80>",
            "image/png": "[encoded data removed]"
          },
          "metadata": {}
        }
      ]
    },
    {
      "metadata": {
        "_uuid": "bdfde374cbe6f2edc9c453f91ef90c757c8d8f06",
        "_cell_guid": "09349ced-fcac-4406-8876-a00fc269218d",
        "trusted": true
      },
      "cell_type": "code",
      "source": "train.seq_item_description.apply(lambda x: len(x)).hist()",
      "execution_count": 13,
      "outputs": [
        {
          "output_type": "execute_result",
          "execution_count": 13,
          "data": {
            "text/plain": "<matplotlib.axes._subplots.AxesSubplot at 0x7f1e9aed8ef0>"
          },
          "metadata": {}
        },
        {
          "output_type": "display_data",
          "data": {
            "text/plain": "<matplotlib.figure.Figure at 0x7f1e9d7d4c18>",
            "image/png": "[encoded data removed]"
          },
          "metadata": {}
        }
      ]
    },
    {
      "metadata": {
        "_uuid": "4cae7d35e8b44e04df93c9f8084ec67ef40a1828",
        "_cell_guid": "e1b9db3a-63de-4bd9-9bad-2db899176053",
        "trusted": true
      },
      "cell_type": "code",
      "source": "#EMBEDDINGS MAX VALUE\n#Base on the histograms, we select the next lengths\nMAX_NAME_SEQ = 10\nMAX_ITEM_DESC_SEQ = 75\nMAX_TEXT = np.max([np.max(train.seq_name.max())\n                   , np.max(test.seq_name.max())\n                  , np.max(train.seq_item_description.max())\n                  , np.max(test.seq_item_description.max())])+2\nMAX_GENCAT = np.max([train.general_cat.max(), test.general_cat.max()])+1\nMAX_SUBCAT1 = np.max([train.subcat_1.max(), test.subcat_2.max()])+1\nMAX_SUBCAT2 = np.max([train.subcat_2.max(), test.subcat_2.max()])+1\nMAX_BRAND = np.max([train.brand_name.max(), test.brand_name.max()])+1\nMAX_CONDITION = np.max([train.item_condition_id.max(), test.item_condition_id.max()])+1",
      "execution_count": 15,
      "outputs": []
    },
    {
      "metadata": {
        "_uuid": "53474065f08e5d469e4a65bd272c0b316ae26b1e",
        "_cell_guid": "cb88f6b3-44ab-4ab4-831a-6a3ebdd0e10d",
        "trusted": true
      },
      "cell_type": "code",
      "source": "#SCALE target variable\ntrain[\"target\"] = np.log(train.price+1)\ntarget_scaler = MinMaxScaler(feature_range=(-1, 1))\ntrain[\"target\"] = target_scaler.fit_transform(train.target.values.reshape(-1,1))\npd.DataFrame(train.target).hist()",
      "execution_count": 17,
      "outputs": [
        {
          "output_type": "execute_result",
          "execution_count": 17,
          "data": {
            "text/plain": "array([[<matplotlib.axes._subplots.AxesSubplot object at 0x7f1e798f5048>]], dtype=object)"
          },
          "metadata": {}
        },
        {
          "output_type": "display_data",
          "data": {
            "text/plain": "<matplotlib.figure.Figure at 0x7f1e7990b6a0>",
            "image/png": "[encoded data removed]"
          },
          "metadata": {}
        }
      ]
    },
    {
      "metadata": {
        "_uuid": "38f7f125582a88eba6410d93306df119e454db82",
        "_cell_guid": "abf9cd11-efa2-4a2c-b844-cdf2fc23bbd8",
        "trusted": true
      },
      "cell_type": "code",
      "source": "#EXTRACT DEVELOPTMENT TEST\ndtrain, dvalid = train_test_split(train, random_state=123, train_size=0.7)\nprint(dtrain.shape)\nprint(dvalid.shape)",
      "execution_count": 19,
      "outputs": [
        {
          "output_type": "stream",
          "text": "/opt/conda/lib/python3.6/site-packages/sklearn/model_selection/_split.py:2026: FutureWarning: From version 0.21, test_size will always complement train_size unless both are specified.\n  FutureWarning)\n",
          "name": "stderr"
        },
        {
          "output_type": "stream",
          "text": "(1037774, 14)\n(444761, 14)\n",
          "name": "stdout"
        }
      ]
    },
    {
      "metadata": {
        "collapsed": true,
        "_uuid": "2f876f24ae0e5a82bdf9b0568f796cce5e2fed2c",
        "_cell_guid": "22f34be1-bd4a-4ad1-a931-62873816e8ee",
        "trusted": true
      },
      "cell_type": "code",
      "source": "#KERAS DATA DEFINITION\nfrom keras.preprocessing.sequence import pad_sequences\n\ndef get_keras_data(dataset):\n    X = {\n        'name': pad_sequences(dataset.seq_name, maxlen=MAX_NAME_SEQ)\n        ,'item_desc': pad_sequences(dataset.seq_item_description, maxlen=MAX_ITEM_DESC_SEQ)\n        ,'brand_name': np.array(dataset.brand_name)\n        #,'category_name': np.array(dataset.category_name)\n        ,'general_cat' : np.array(dataset.general_cat)\n        ,'subcat_1' : np.array(dataset.subcat_1)\n        ,'subcat_2' : np.array(dataset.subcat_2)\n        ,'item_condition': np.array(dataset.item_condition_id)\n        ,'num_vars': np.array(dataset[[\"shipping\"]])\n    }\n    return X\n\nX_train = get_keras_data(dtrain)\nX_valid = get_keras_data(dvalid)\nX_test = get_keras_data(test)",
      "execution_count": 20,
      "outputs": []
    },
    {
      "metadata": {
        "_uuid": "8af261410908e6c713ca7de01c3c2c549debf779",
        "_cell_guid": "79428c10-e754-4e0e-a8be-ecbe74ef55ff",
        "trusted": true
      },
      "cell_type": "code",
      "source": "#KERAS MODEL DEFINITION\nfrom keras.layers import Input, Dropout, Dense, BatchNormalization, Activation, concatenate, GRU, Embedding, Flatten, BatchNormalization\nfrom keras.models import Model\nfrom keras.callbacks import ModelCheckpoint, Callback, EarlyStopping\nfrom keras import backend as K\n\ndef get_callbacks(filepath, patience=2):\n    es = EarlyStopping('val_loss', patience=patience, mode=\"min\")\n    msave = ModelCheckpoint(filepath, save_best_only=True)\n    return [es, msave]\n\ndef rmsle_cust(y_true, y_pred):\n    first_log = K.log(K.clip(y_pred, K.epsilon(), None) + 1.)\n    second_log = K.log(K.clip(y_true, K.epsilon(), None) + 1.)\n    return K.sqrt(K.mean(K.square(first_log - second_log), axis=-1))\n\ndef get_model():\n    #params\n    dr_r = 0.1\n    \n    #Inputs\n    name = Input(shape=[X_train[\"name\"].shape[1]], name=\"name\")\n    item_desc = Input(shape=[X_train[\"item_desc\"].shape[1]], name=\"item_desc\")\n    brand_name = Input(shape=[1], name=\"brand_name\")\n    #category_name = Input(shape=[1], name=\"category_name\")\n    general_cat = Input(shape=[1], name=\"general_cat\")\n    subcat_1 = Input(shape=[1], name=\"subcat_1\")\n    subcat_2 = Input(shape=[1], name=\"subcat_2\")\n    item_condition = Input(shape=[1], name=\"item_condition\")\n    num_vars = Input(shape=[X_train[\"num_vars\"].shape[1]], name=\"num_vars\")\n    \n    #Embeddings layers\n    emb_name = Embedding(MAX_TEXT, 5)(name)\n    emb_item_desc = Embedding(MAX_TEXT, 200)(item_desc)\n    emb_brand_name = Embedding(MAX_BRAND, 50)(brand_name)\n    #emb_category_name = Embedding(MAX_CATEGORY, 10)(category_name)\n    emb_general_cat = Embedding(MAX_GENCAT, 50)(general_cat)\n    emb_subcat_1 = Embedding(MAX_SUBCAT1, 50)(subcat_1)\n    emb_subcat_2 = Embedding(MAX_SUBCAT2, 50)(subcat_2)    \n    emb_item_condition = Embedding(MAX_CONDITION, 5)(item_condition)\n    \n    #rnn layer\n    rnn_layer1 = GRU(16) (emb_item_desc)\n    rnn_layer2 = GRU(8) (emb_name)\n    \n    #main layer\n    main_l = concatenate([\n        Flatten() (emb_brand_name)\n        #, Flatten() (emb_category_name)\n        , Flatten() (emb_general_cat)\n        , Flatten() (emb_subcat_1)\n        , Flatten() (emb_subcat_2)\n        , Flatten() (emb_item_condition)\n        , rnn_layer1\n        , rnn_layer2\n        , num_vars\n    ])\n    main_l = Dropout(dr_r) (Dense(128) (main_l))\n    main_l = Dropout(dr_r) (Dense(64) (main_l))\n    \n    #output\n    output = Dense(1, activation=\"linear\") (main_l)\n    \n    #model\n    model = Model([name, item_desc, brand_name\n                   , general_cat, subcat_1, subcat_2, item_condition, num_vars], output)\n    model.compile(loss=\"mse\", optimizer=\"adam\", metrics=[\"mae\", rmsle_cust])\n    \n    return model\n\n    \nmodel = get_model()\nmodel.summary()\n    \n",
      "execution_count": 23,
      "outputs": [
        {
          "output_type": "stream",
          "text": "__________________________________________________________________________________________________\nLayer (type)                    Output Shape         Param #     Connected to                     \n==================================================================================================\nbrand_name (InputLayer)         (None, 1)            0                                            \n__________________________________________________________________________________________________\ngeneral_cat (InputLayer)        (None, 1)            0                                            \n__________________________________________________________________________________________________\nsubcat_1 (InputLayer)           (None, 1)            0                                            \n__________________________________________________________________________________________________\nsubcat_2 (InputLayer)           (None, 1)            0                                            \n__________________________________________________________________________________________________\nitem_condition (InputLayer)     (None, 1)            0                                            \n__________________________________________________________________________________________________\nitem_desc (InputLayer)          (None, 75)           0                                            \n__________________________________________________________________________________________________\nname (InputLayer)               (None, 10)           0                                            \n__________________________________________________________________________________________________\nembedding_13 (Embedding)        (None, 1, 50)        264500      brand_name[0][0]                 \n__________________________________________________________________________________________________\nembedding_14 (Embedding)        (None, 1, 50)        550         general_cat[0][0]                \n__________________________________________________________________________________________________\nembedding_15 (Embedding)        (None, 1, 50)        44150       subcat_1[0][0]                   \n__________________________________________________________________________________________________\nembedding_16 (Embedding)        (None, 1, 50)        44150       subcat_2[0][0]                   \n__________________________________________________________________________________________________\nembedding_17 (Embedding)        (None, 1, 5)         30          item_condition[0][0]             \n__________________________________________________________________________________________________\nembedding_12 (Embedding)        (None, 75, 200)      51817600    item_desc[0][0]                  \n__________________________________________________________________________________________________\nembedding_11 (Embedding)        (None, 10, 5)        1295440     name[0][0]                       \n__________________________________________________________________________________________________\nflatten_3 (Flatten)             (None, 50)           0           embedding_13[0][0]               \n__________________________________________________________________________________________________\nflatten_4 (Flatten)             (None, 50)           0           embedding_14[0][0]               \n__________________________________________________________________________________________________\nflatten_5 (Flatten)             (None, 50)           0           embedding_15[0][0]               \n__________________________________________________________________________________________________\nflatten_6 (Flatten)             (None, 50)           0           embedding_16[0][0]               \n__________________________________________________________________________________________________\nflatten_7 (Flatten)             (None, 5)            0           embedding_17[0][0]               \n__________________________________________________________________________________________________\ngru_3 (GRU)                     (None, 16)           10416       embedding_12[0][0]               \n__________________________________________________________________________________________________\ngru_4 (GRU)                     (None, 8)            336         embedding_11[0][0]               \n__________________________________________________________________________________________________\nnum_vars (InputLayer)           (None, 1)            0                                            \n__________________________________________________________________________________________________\nconcatenate_1 (Concatenate)     (None, 230)          0           flatten_3[0][0]                  \n                                                                 flatten_4[0][0]                  \n                                                                 flatten_5[0][0]                  \n                                                                 flatten_6[0][0]                  \n                                                                 flatten_7[0][0]                  \n                                                                 gru_3[0][0]                      \n                                                                 gru_4[0][0]                      \n                                                                 num_vars[0][0]                   \n__________________________________________________________________________________________________\ndense_1 (Dense)                 (None, 128)          29568       concatenate_1[0][0]              \n__________________________________________________________________________________________________\ndropout_1 (Dropout)             (None, 128)          0           dense_1[0][0]                    \n__________________________________________________________________________________________________\ndense_2 (Dense)                 (None, 64)           8256        dropout_1[0][0]                  \n__________________________________________________________________________________________________\ndropout_2 (Dropout)             (None, 64)           0           dense_2[0][0]                    \n__________________________________________________________________________________________________\ndense_3 (Dense)                 (None, 1)            65          dropout_2[0][0]                  \n==================================================================================================\nTotal params: 53,515,061\nTrainable params: 53,515,061\nNon-trainable params: 0\n__________________________________________________________________________________________________\n",
          "name": "stdout"
        }
      ]
    },
    {
      "metadata": {
        "_uuid": "5fa44a0c7fcca9b0f0c15719be8ac38a2ee7cea8",
        "_cell_guid": "b19fde2e-e454-48fd-b336-de0b15051fc8",
        "trusted": true
      },
      "cell_type": "code",
      "source": "#FITTING THE MODEL\nBATCH_SIZE = 20000\nepochs = 5\n\nmodel = get_model()\nmodel.fit(X_train, dtrain.target, epochs=epochs, batch_size=BATCH_SIZE\n          , validation_data=(X_valid, dvalid.target)\n          , verbose=1)",
      "execution_count": 24,
      "outputs": [
        {
          "output_type": "stream",
          "text": "Train on 1037774 samples, validate on 444761 samples\nEpoch 1/5\n1037774/1037774 [==============================] - 1002s 965us/step - loss: 0.0287 - mean_absolute_error: 0.1297 - rmsle_cust: 0.0155 - val_loss: 0.0202 - val_mean_absolute_error: 0.1077 - val_rmsle_cust: 0.0142\nEpoch 2/5\n  40000/1037774 [>.............................] - ETA: 13:57 - loss: 0.0213 - mean_absolute_error: 0.1111 - rmsle_cust: 0.0140",
          "name": "stdout"
        },
        {
          "output_type": "error",
          "ename": "KeyboardInterrupt",
          "evalue": "",
          "traceback": [
            "\u001b[0;31m---------------------------------------------------------------------------\u001b[0m",
            "\u001b[0;31mKeyboardInterrupt\u001b[0m                         Traceback (most recent call last)",
            "\u001b[0;32m<ipython-input-24-9e796be880c2>\u001b[0m in \u001b[0;36m<module>\u001b[0;34m()\u001b[0m\n\u001b[1;32m      6\u001b[0m model.fit(X_train, dtrain.target, epochs=epochs, batch_size=BATCH_SIZE\n\u001b[1;32m      7\u001b[0m           \u001b[0;34m,\u001b[0m \u001b[0mvalidation_data\u001b[0m\u001b[0;34m=\u001b[0m\u001b[0;34m(\u001b[0m\u001b[0mX_valid\u001b[0m\u001b[0;34m,\u001b[0m \u001b[0mdvalid\u001b[0m\u001b[0;34m.\u001b[0m\u001b[0mtarget\u001b[0m\u001b[0;34m)\u001b[0m\u001b[0;34m\u001b[0m\u001b[0m\n\u001b[0;32m----> 8\u001b[0;31m           , verbose=1)\n\u001b[0m",
            "\u001b[0;32m/opt/conda/lib/python3.6/site-packages/Keras-2.1.2-py3.6.egg/keras/engine/training.py\u001b[0m in \u001b[0;36mfit\u001b[0;34m(self, x, y, batch_size, epochs, verbose, callbacks, validation_split, validation_data, shuffle, class_weight, sample_weight, initial_epoch, steps_per_epoch, validation_steps, **kwargs)\u001b[0m\n\u001b[1;32m   1655\u001b[0m                               \u001b[0minitial_epoch\u001b[0m\u001b[0;34m=\u001b[0m\u001b[0minitial_epoch\u001b[0m\u001b[0;34m,\u001b[0m\u001b[0;34m\u001b[0m\u001b[0m\n\u001b[1;32m   1656\u001b[0m                               \u001b[0msteps_per_epoch\u001b[0m\u001b[0;34m=\u001b[0m\u001b[0msteps_per_epoch\u001b[0m\u001b[0;34m,\u001b[0m\u001b[0;34m\u001b[0m\u001b[0m\n\u001b[0;32m-> 1657\u001b[0;31m                               validation_steps=validation_steps)\n\u001b[0m\u001b[1;32m   1658\u001b[0m \u001b[0;34m\u001b[0m\u001b[0m\n\u001b[1;32m   1659\u001b[0m     def evaluate(self, x=None, y=None,\n",
            "\u001b[0;32m/opt/conda/lib/python3.6/site-packages/Keras-2.1.2-py3.6.egg/keras/engine/training.py\u001b[0m in \u001b[0;36m_fit_loop\u001b[0;34m(self, f, ins, out_labels, batch_size, epochs, verbose, callbacks, val_f, val_ins, shuffle, callback_metrics, initial_epoch, steps_per_epoch, validation_steps)\u001b[0m\n\u001b[1;32m   1211\u001b[0m                     \u001b[0mbatch_logs\u001b[0m\u001b[0;34m[\u001b[0m\u001b[0;34m'size'\u001b[0m\u001b[0;34m]\u001b[0m \u001b[0;34m=\u001b[0m \u001b[0mlen\u001b[0m\u001b[0;34m(\u001b[0m\u001b[0mbatch_ids\u001b[0m\u001b[0;34m)\u001b[0m\u001b[0;34m\u001b[0m\u001b[0m\n\u001b[1;32m   1212\u001b[0m                     \u001b[0mcallbacks\u001b[0m\u001b[0;34m.\u001b[0m\u001b[0mon_batch_begin\u001b[0m\u001b[0;34m(\u001b[0m\u001b[0mbatch_index\u001b[0m\u001b[0;34m,\u001b[0m \u001b[0mbatch_logs\u001b[0m\u001b[0;34m)\u001b[0m\u001b[0;34m\u001b[0m\u001b[0m\n\u001b[0;32m-> 1213\u001b[0;31m                     \u001b[0mouts\u001b[0m \u001b[0;34m=\u001b[0m \u001b[0mf\u001b[0m\u001b[0;34m(\u001b[0m\u001b[0mins_batch\u001b[0m\u001b[0;34m)\u001b[0m\u001b[0;34m\u001b[0m\u001b[0m\n\u001b[0m\u001b[1;32m   1214\u001b[0m                     \u001b[0;32mif\u001b[0m \u001b[0;32mnot\u001b[0m \u001b[0misinstance\u001b[0m\u001b[0;34m(\u001b[0m\u001b[0mouts\u001b[0m\u001b[0;34m,\u001b[0m \u001b[0mlist\u001b[0m\u001b[0;34m)\u001b[0m\u001b[0;34m:\u001b[0m\u001b[0;34m\u001b[0m\u001b[0m\n\u001b[1;32m   1215\u001b[0m                         \u001b[0mouts\u001b[0m \u001b[0;34m=\u001b[0m \u001b[0;34m[\u001b[0m\u001b[0mouts\u001b[0m\u001b[0;34m]\u001b[0m\u001b[0;34m\u001b[0m\u001b[0m\n",
            "\u001b[0;32m/opt/conda/lib/python3.6/site-packages/Keras-2.1.2-py3.6.egg/keras/backend/tensorflow_backend.py\u001b[0m in \u001b[0;36m__call__\u001b[0;34m(self, inputs)\u001b[0m\n\u001b[1;32m   2458\u001b[0m         \u001b[0msession\u001b[0m \u001b[0;34m=\u001b[0m \u001b[0mget_session\u001b[0m\u001b[0;34m(\u001b[0m\u001b[0;34m)\u001b[0m\u001b[0;34m\u001b[0m\u001b[0m\n\u001b[1;32m   2459\u001b[0m         updated = session.run(fetches=fetches, feed_dict=feed_dict,\n\u001b[0;32m-> 2460\u001b[0;31m                               **self.session_kwargs)\n\u001b[0m\u001b[1;32m   2461\u001b[0m         \u001b[0;32mreturn\u001b[0m \u001b[0mupdated\u001b[0m\u001b[0;34m[\u001b[0m\u001b[0;34m:\u001b[0m\u001b[0mlen\u001b[0m\u001b[0;34m(\u001b[0m\u001b[0mself\u001b[0m\u001b[0;34m.\u001b[0m\u001b[0moutputs\u001b[0m\u001b[0;34m)\u001b[0m\u001b[0;34m]\u001b[0m\u001b[0;34m\u001b[0m\u001b[0m\n\u001b[1;32m   2462\u001b[0m \u001b[0;34m\u001b[0m\u001b[0m\n",
            "\u001b[0;32m/opt/conda/lib/python3.6/site-packages/tensorflow/python/client/session.py\u001b[0m in \u001b[0;36mrun\u001b[0;34m(self, fetches, feed_dict, options, run_metadata)\u001b[0m\n\u001b[1;32m    887\u001b[0m     \u001b[0;32mtry\u001b[0m\u001b[0;34m:\u001b[0m\u001b[0;34m\u001b[0m\u001b[0m\n\u001b[1;32m    888\u001b[0m       result = self._run(None, fetches, feed_dict, options_ptr,\n\u001b[0;32m--> 889\u001b[0;31m                          run_metadata_ptr)\n\u001b[0m\u001b[1;32m    890\u001b[0m       \u001b[0;32mif\u001b[0m \u001b[0mrun_metadata\u001b[0m\u001b[0;34m:\u001b[0m\u001b[0;34m\u001b[0m\u001b[0m\n\u001b[1;32m    891\u001b[0m         \u001b[0mproto_data\u001b[0m \u001b[0;34m=\u001b[0m \u001b[0mtf_session\u001b[0m\u001b[0;34m.\u001b[0m\u001b[0mTF_GetBuffer\u001b[0m\u001b[0;34m(\u001b[0m\u001b[0mrun_metadata_ptr\u001b[0m\u001b[0;34m)\u001b[0m\u001b[0;34m\u001b[0m\u001b[0m\n",
            "\u001b[0;32m/opt/conda/lib/python3.6/site-packages/tensorflow/python/client/session.py\u001b[0m in \u001b[0;36m_run\u001b[0;34m(self, handle, fetches, feed_dict, options, run_metadata)\u001b[0m\n\u001b[1;32m   1118\u001b[0m     \u001b[0;32mif\u001b[0m \u001b[0mfinal_fetches\u001b[0m \u001b[0;32mor\u001b[0m \u001b[0mfinal_targets\u001b[0m \u001b[0;32mor\u001b[0m \u001b[0;34m(\u001b[0m\u001b[0mhandle\u001b[0m \u001b[0;32mand\u001b[0m \u001b[0mfeed_dict_tensor\u001b[0m\u001b[0;34m)\u001b[0m\u001b[0;34m:\u001b[0m\u001b[0;34m\u001b[0m\u001b[0m\n\u001b[1;32m   1119\u001b[0m       results = self._do_run(handle, final_targets, final_fetches,\n\u001b[0;32m-> 1120\u001b[0;31m                              feed_dict_tensor, options, run_metadata)\n\u001b[0m\u001b[1;32m   1121\u001b[0m     \u001b[0;32melse\u001b[0m\u001b[0;34m:\u001b[0m\u001b[0;34m\u001b[0m\u001b[0m\n\u001b[1;32m   1122\u001b[0m       \u001b[0mresults\u001b[0m \u001b[0;34m=\u001b[0m \u001b[0;34m[\u001b[0m\u001b[0;34m]\u001b[0m\u001b[0;34m\u001b[0m\u001b[0m\n",
            "\u001b[0;32m/opt/conda/lib/python3.6/site-packages/tensorflow/python/client/session.py\u001b[0m in \u001b[0;36m_do_run\u001b[0;34m(self, handle, target_list, fetch_list, feed_dict, options, run_metadata)\u001b[0m\n\u001b[1;32m   1315\u001b[0m     \u001b[0;32mif\u001b[0m \u001b[0mhandle\u001b[0m \u001b[0;32mis\u001b[0m \u001b[0;32mNone\u001b[0m\u001b[0;34m:\u001b[0m\u001b[0;34m\u001b[0m\u001b[0m\n\u001b[1;32m   1316\u001b[0m       return self._do_call(_run_fn, self._session, feeds, fetches, targets,\n\u001b[0;32m-> 1317\u001b[0;31m                            options, run_metadata)\n\u001b[0m\u001b[1;32m   1318\u001b[0m     \u001b[0;32melse\u001b[0m\u001b[0;34m:\u001b[0m\u001b[0;34m\u001b[0m\u001b[0m\n\u001b[1;32m   1319\u001b[0m       \u001b[0;32mreturn\u001b[0m \u001b[0mself\u001b[0m\u001b[0;34m.\u001b[0m\u001b[0m_do_call\u001b[0m\u001b[0;34m(\u001b[0m\u001b[0m_prun_fn\u001b[0m\u001b[0;34m,\u001b[0m \u001b[0mself\u001b[0m\u001b[0;34m.\u001b[0m\u001b[0m_session\u001b[0m\u001b[0;34m,\u001b[0m \u001b[0mhandle\u001b[0m\u001b[0;34m,\u001b[0m \u001b[0mfeeds\u001b[0m\u001b[0;34m,\u001b[0m \u001b[0mfetches\u001b[0m\u001b[0;34m)\u001b[0m\u001b[0;34m\u001b[0m\u001b[0m\n",
            "\u001b[0;32m/opt/conda/lib/python3.6/site-packages/tensorflow/python/client/session.py\u001b[0m in \u001b[0;36m_do_call\u001b[0;34m(self, fn, *args)\u001b[0m\n\u001b[1;32m   1321\u001b[0m   \u001b[0;32mdef\u001b[0m \u001b[0m_do_call\u001b[0m\u001b[0;34m(\u001b[0m\u001b[0mself\u001b[0m\u001b[0;34m,\u001b[0m \u001b[0mfn\u001b[0m\u001b[0;34m,\u001b[0m \u001b[0;34m*\u001b[0m\u001b[0margs\u001b[0m\u001b[0;34m)\u001b[0m\u001b[0;34m:\u001b[0m\u001b[0;34m\u001b[0m\u001b[0m\n\u001b[1;32m   1322\u001b[0m     \u001b[0;32mtry\u001b[0m\u001b[0;34m:\u001b[0m\u001b[0;34m\u001b[0m\u001b[0m\n\u001b[0;32m-> 1323\u001b[0;31m       \u001b[0;32mreturn\u001b[0m \u001b[0mfn\u001b[0m\u001b[0;34m(\u001b[0m\u001b[0;34m*\u001b[0m\u001b[0margs\u001b[0m\u001b[0;34m)\u001b[0m\u001b[0;34m\u001b[0m\u001b[0m\n\u001b[0m\u001b[1;32m   1324\u001b[0m     \u001b[0;32mexcept\u001b[0m \u001b[0merrors\u001b[0m\u001b[0;34m.\u001b[0m\u001b[0mOpError\u001b[0m \u001b[0;32mas\u001b[0m \u001b[0me\u001b[0m\u001b[0;34m:\u001b[0m\u001b[0;34m\u001b[0m\u001b[0m\n\u001b[1;32m   1325\u001b[0m       \u001b[0mmessage\u001b[0m \u001b[0;34m=\u001b[0m \u001b[0mcompat\u001b[0m\u001b[0;34m.\u001b[0m\u001b[0mas_text\u001b[0m\u001b[0;34m(\u001b[0m\u001b[0me\u001b[0m\u001b[0;34m.\u001b[0m\u001b[0mmessage\u001b[0m\u001b[0;34m)\u001b[0m\u001b[0;34m\u001b[0m\u001b[0m\n",
            "\u001b[0;32m/opt/conda/lib/python3.6/site-packages/tensorflow/python/client/session.py\u001b[0m in \u001b[0;36m_run_fn\u001b[0;34m(session, feed_dict, fetch_list, target_list, options, run_metadata)\u001b[0m\n\u001b[1;32m   1300\u001b[0m           return tf_session.TF_Run(session, options,\n\u001b[1;32m   1301\u001b[0m                                    \u001b[0mfeed_dict\u001b[0m\u001b[0;34m,\u001b[0m \u001b[0mfetch_list\u001b[0m\u001b[0;34m,\u001b[0m \u001b[0mtarget_list\u001b[0m\u001b[0;34m,\u001b[0m\u001b[0;34m\u001b[0m\u001b[0m\n\u001b[0;32m-> 1302\u001b[0;31m                                    status, run_metadata)\n\u001b[0m\u001b[1;32m   1303\u001b[0m \u001b[0;34m\u001b[0m\u001b[0m\n\u001b[1;32m   1304\u001b[0m     \u001b[0;32mdef\u001b[0m \u001b[0m_prun_fn\u001b[0m\u001b[0;34m(\u001b[0m\u001b[0msession\u001b[0m\u001b[0;34m,\u001b[0m \u001b[0mhandle\u001b[0m\u001b[0;34m,\u001b[0m \u001b[0mfeed_dict\u001b[0m\u001b[0;34m,\u001b[0m \u001b[0mfetch_list\u001b[0m\u001b[0;34m)\u001b[0m\u001b[0;34m:\u001b[0m\u001b[0;34m\u001b[0m\u001b[0m\n",
            "\u001b[0;31mKeyboardInterrupt\u001b[0m: "
          ]
        }
      ]
    },
    {
      "metadata": {
        "collapsed": true,
        "_uuid": "5065d64200d6c4675901e727ddf87afc8136a0c3",
        "_cell_guid": "0bfc00c9-37d7-4ebe-9f9c-2bf0661aef3c",
        "trusted": false
      },
      "cell_type": "code",
      "source": "#EVLUEATE THE MODEL ON DEV TEST: What is it doing?\nval_preds = model.predict(X_valid)\nval_preds = target_scaler.inverse_transform(val_preds)\nval_preds = np.exp(val_preds)+1\n\n#mean_absolute_error, mean_squared_log_error\ny_true = np.array(dvalid.price.values)\ny_pred = val_preds[:,0]\nv_rmsle = rmsle(y_true, y_pred)\nprint(\" RMSLE error on dev test: \"+str(v_rmsle))",
      "execution_count": null,
      "outputs": []
    },
    {
      "metadata": {
        "collapsed": true,
        "_uuid": "59772da91cbcb781396138d860d7875a23accaa9",
        "_cell_guid": "996256b1-8628-4a8a-9e75-2eae09fa7d6e",
        "trusted": false
      },
      "cell_type": "code",
      "source": "#CREATE PREDICTIONS\npreds = model.predict(X_test, batch_size=BATCH_SIZE)\npreds = target_scaler.inverse_transform(preds)\npreds = np.exp(preds)-1\n\nsubmission = test[[\"test_id\"]]\nsubmission[\"price\"] = preds",
      "execution_count": null,
      "outputs": []
    },
    {
      "metadata": {
        "collapsed": true,
        "_uuid": "270683b6ea8391d536aa86deeb7d0b381a9006ba",
        "_cell_guid": "8b76a6c9-fa82-4011-82ab-0384b8e2e5b4",
        "trusted": false
      },
      "cell_type": "code",
      "source": "submission.to_csv(\"./myNNsubmission.csv\", index=False)\nsubmission.price.hist()\n",
      "execution_count": null,
      "outputs": []
    },
    {
      "metadata": {
        "_uuid": "d0e07027d44dcda199db405c974a05276a3fb4ac",
        "_cell_guid": "4f194864-1f59-4b94-871b-3b3ee6f01fd2"
      },
      "cell_type": "markdown",
      "source": "This was just an example how nn can solve this problems. Potencial improvements of the kernel:\n    - Increase the embeddings factos\n    - Decrease the batch size\n    - Add Batch Normalization\n    - Try LSTM, Bidirectional RNN, stack RNN\n    - Try with more dense layers or more rnn outputs\n    -  etc. Or even try a new architecture!\n    \nAny comment will be welcome. Thanks!\n \n    "
    }
  ],
  "metadata": {
    "language_info": {
      "name": "python",
      "version": "3.6.3",
      "mimetype": "text/x-python",
      "codemirror_mode": {
        "name": "ipython",
        "version": 3
      },
      "pygments_lexer": "ipython3",
      "nbconvert_exporter": "python",
      "file_extension": ".py"
    },
    "kernelspec": {
      "display_name": "Python 3",
      "language": "python",
      "name": "python3"
    }
  },
  "nbformat": 4,
  "nbformat_minor": 1
}